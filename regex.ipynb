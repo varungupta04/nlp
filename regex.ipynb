# Regular expressions for retrieving order numbers
def get_pattern_match(pattern, text):
    matches = re.findall(pattern, text)
    if matches:
        return matches[0]

# Retrieving order numbers
chat1 = "codebasics: Hello, I am having an issue with my order # 412889912"
chat2 = "codebasics: I have a problem with my order number 412889912"
chat3 = "codebasics: My order 412889912 is having an issue, I was charged 300$ when online it says 280$"

order_pattern = r"order[^\d]*(\d*)"

order_number_1 = get_pattern_match(order_pattern, chat1)
order_number_2 = get_pattern_match(order_pattern, chat2)
order_number_3 = get_pattern_match(order_pattern, chat3)

# Retrieving email IDs
email_pattern = r"[a-zA-Z0-9_]*@[a-z]*\.[a-zA-Z0-9]*"

email_1 = get_pattern_match(email_pattern, chat1)
email_2 = get_pattern_match(email_pattern, chat2)
email_3 = get_pattern_match(email_pattern, chat3)

# Retrieving phone numbers
phone_pattern = r"(\d{10})|(\(\d{3}\)-\d{3}-\d{4})"

phone_1 = get_pattern_match(phone_pattern, chat1)
phone_2 = get_pattern_match(phone_pattern, chat2)
phone_3 = get_pattern_match(phone_pattern, chat3)

# Information extraction using regular expressions
text = '''
Born\tElon Reeve Musk
June 28, 1971 (age 50)
Pretoria, Transvaal, South Africa
Citizenship\t
South Africa (1971–present)
Canada (1971–present)
United States (2002–present)
Education\tUniversity of Pennsylvania (BS, BA)
Title\t
Founder, CEO and Chief Engineer of SpaceX
CEO and product architect of Tesla, Inc.
Founder of The Boring Company and X.com (now part of PayPal)
Co-founder of Neuralink, OpenAI, and Zip2
Spouse(s)\t
Justine Wilson
​
​(m. 2000; div. 2008)​
Talulah Riley
​
​(m. 2010; div. 2012)​
​
​(m. 2013; div. 2016)
'''

# Extracting personal information
def extract_personal_information(text):
    age = get_pattern_match(r'age (\d+)', text)
    full_name = get_pattern_match(r'Born(.*)\n', text).strip()
    birth_date = get_pattern_match(r'Born.*\n(.*)\(age', text).strip()
    birth_place = get_pattern_match(r'\(age.*\n(.*)', text).strip()
    
    return {
        'age': int(age),
        'name': full_name,
        'birth_date': birth_date,
        'birth_place': birth_place
    }

# Extracting personal information from the given text
personal_info = extract_personal_information(text)
